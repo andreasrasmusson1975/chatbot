{
 "cells": [
  {
   "cell_type": "code",
   "execution_count": 2,
   "id": "bb5dd811",
   "metadata": {},
   "outputs": [],
   "source": [
    "from classes.task_generator import TaskGenerator\n",
    "\n",
    "tc = TaskGenerator('docs')\n",
    "tasks = tc.get_tasks()"
   ]
  },
  {
   "cell_type": "code",
   "execution_count": 6,
   "id": "8541bd56",
   "metadata": {},
   "outputs": [
    {
     "data": {
      "text/plain": [
       "'alienware-17-r5_service-manual_en-us'"
      ]
     },
     "execution_count": 6,
     "metadata": {},
     "output_type": "execute_result"
    }
   ],
   "source": [
    "list(tasks.keys())[0]"
   ]
  },
  {
   "cell_type": "code",
   "execution_count": null,
   "id": "2039d65b",
   "metadata": {},
   "outputs": [],
   "source": []
  }
 ],
 "metadata": {
  "kernelspec": {
   "display_name": "env",
   "language": "python",
   "name": "python3"
  },
  "language_info": {
   "codemirror_mode": {
    "name": "ipython",
    "version": 3
   },
   "file_extension": ".py",
   "mimetype": "text/x-python",
   "name": "python",
   "nbconvert_exporter": "python",
   "pygments_lexer": "ipython3",
   "version": "3.10.0"
  }
 },
 "nbformat": 4,
 "nbformat_minor": 5
}
